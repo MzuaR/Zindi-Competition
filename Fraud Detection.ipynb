{
  "nbformat": 4,
  "nbformat_minor": 0,
  "metadata": {
    "colab": {
      "name": "HackT.ipynb",
      "provenance": [],
      "toc_visible": true
    },
    "language_info": {
      "codemirror_mode": {
        "name": "ipython",
        "version": 3
      },
      "file_extension": ".py",
      "mimetype": "text/x-python",
      "name": "python",
      "nbconvert_exporter": "python",
      "pygments_lexer": "ipython3",
      "version": "3.7.1"
    },
    "kernelspec": {
      "display_name": "Python 3",
      "language": "python",
      "name": "python3"
    }
  },
  "cells": [
    {
      "cell_type": "code",
      "metadata": {
        "id": "OziVwAvdhcD7",
        "colab_type": "code",
        "outputId": "7af37bf7-bd62-47d0-f070-c7b23df84a38",
        "colab": {
          "base_uri": "https://localhost:8080/",
          "height": 122
        }
      },
      "source": [
        "# Run this cell to mount your Google Drive.\n",
        "from google.colab import drive\n",
        "drive.mount('/content/drive')"
      ],
      "execution_count": 0,
      "outputs": [
        {
          "output_type": "stream",
          "text": [
            "Go to this URL in a browser: https://accounts.google.com/o/oauth2/auth?client_id=947318989803-6bn6qk8qdgf4n4g3pfee6491hc0brc4i.apps.googleusercontent.com&redirect_uri=urn%3Aietf%3Awg%3Aoauth%3A2.0%3Aoob&scope=email%20https%3A%2F%2Fwww.googleapis.com%2Fauth%2Fdocs.test%20https%3A%2F%2Fwww.googleapis.com%2Fauth%2Fdrive%20https%3A%2F%2Fwww.googleapis.com%2Fauth%2Fdrive.photos.readonly%20https%3A%2F%2Fwww.googleapis.com%2Fauth%2Fpeopleapi.readonly&response_type=code\n",
            "\n",
            "Enter your authorization code:\n",
            "··········\n",
            "Mounted at /content/drive\n"
          ],
          "name": "stdout"
        }
      ]
    },
    {
      "cell_type": "markdown",
      "metadata": {
        "id": "heypDUijwCyv",
        "colab_type": "text"
      },
      "source": [
        "#**1.** **Load** **Packages** and Data"
      ]
    },
    {
      "cell_type": "markdown",
      "metadata": {
        "id": "PdgPlnevwjh2",
        "colab_type": "text"
      },
      "source": [
        "**packages**"
      ]
    },
    {
      "cell_type": "code",
      "metadata": {
        "id": "NDybuovKhWcT",
        "colab_type": "code",
        "colab": {}
      },
      "source": [
        "#importing packages\n",
        "%matplotlib inline\n",
        "import numpy as np\n",
        "import pandas as pd\n",
        "import matplotlib.pyplot as plt\n",
        "import seaborn as sns\n",
        "plt.style.use('ggplot')"
      ],
      "execution_count": 0,
      "outputs": []
    },
    {
      "cell_type": "markdown",
      "metadata": {
        "id": "Eg-mvzmnv19Q",
        "colab_type": "text"
      },
      "source": [
        "**data**"
      ]
    },
    {
      "cell_type": "code",
      "metadata": {
        "id": "z-7JkLtshWcX",
        "colab_type": "code",
        "colab": {}
      },
      "source": [
        "#Load data as Pandas dataframe\n",
        "train = pd.read_csv('/content/drive/My Drive/Unsupervised Machine Learning/training.csv')\n",
        "test = pd.read_csv('/content/drive/My Drive/Unsupervised Machine Learning/test.csv')\n"
      ],
      "execution_count": 0,
      "outputs": []
    },
    {
      "cell_type": "markdown",
      "metadata": {
        "id": "f3XFYBenwrBR",
        "colab_type": "text"
      },
      "source": [
        "**combine data**"
      ]
    },
    {
      "cell_type": "code",
      "metadata": {
        "id": "Pskqeww6hWca",
        "colab_type": "code",
        "colab": {}
      },
      "source": [
        "df = pd.concat([train, test], axis=0, sort=True)"
      ],
      "execution_count": 0,
      "outputs": []
    },
    {
      "cell_type": "markdown",
      "metadata": {
        "id": "Wvklg3bLx_eR",
        "colab_type": "text"
      },
      "source": [
        "**Checking the Fraudulent and Non Fraudulent Transaction**"
      ]
    },
    {
      "cell_type": "code",
      "metadata": {
        "id": "wfH6z5zzhWcs",
        "colab_type": "code",
        "outputId": "650dd040-3aaf-4523-bad3-f33500b0459c",
        "colab": {
          "base_uri": "https://localhost:8080/",
          "height": 316
        }
      },
      "source": [
        "\n",
        "val_count = df.FraudResult.value_counts()\n",
        "nonfraud = val_count[0]\n",
        "fraudulent = val_count[1]\n",
        "\n",
        "plt.figure(figsize=(7,4))\n",
        "sns.barplot(x=val_count.index, y=val_count)\n",
        "plt.title('Count of Fraudulent vs. Non-Fraudulent Transactions')\n",
        "plt.ylabel('Count')\n",
        "plt.xlabel('FraudResult (0:Non-Fraudulent, 1:Fraudulent)')"
      ],
      "execution_count": 0,
      "outputs": [
        {
          "output_type": "execute_result",
          "data": {
            "text/plain": [
              "Text(0.5, 0, 'FraudResult (0:Non-Fraudulent, 1:Fraudulent)')"
            ]
          },
          "metadata": {
            "tags": []
          },
          "execution_count": 243
        },
        {
          "output_type": "display_data",
          "data": {
            "image/png": "[encoded data removed]",
            "text/plain": [
              "<Figure size 504x288 with 1 Axes>"
            ]
          },
          "metadata": {
            "tags": []
          }
        }
      ]
    },
    {
      "cell_type": "markdown",
      "metadata": {
        "id": "LfjlKu29y_l2",
        "colab_type": "text"
      },
      "source": [
        "**Encoding non numerical to numerical**"
      ]
    },
    {
      "cell_type": "code",
      "metadata": {
        "id": "YZS34ChehWcy",
        "colab_type": "code",
        "colab": {}
      },
      "source": [
        "#Using Label Encoder\n",
        "from sklearn import preprocessing\n",
        "le = preprocessing.LabelEncoder()\n",
        "df['AccountId'] = le.fit_transform(df.AccountId.values)\n",
        "df['BatchId'] = le.fit_transform(df.BatchId.values)\n",
        "df['ChannelId'] = le.fit_transform(df.ChannelId.values)\n",
        "df['CountryCode'] = le.fit_transform(df.CountryCode.values)\n",
        "df['CustomerId'] = le.fit_transform(df.CustomerId.values)\n",
        "df['PricingStrategy'] = le.fit_transform(df.PricingStrategy.values)\n",
        "df['ProductId'] = le.fit_transform(df.ProductId.values)\n",
        "df['ProviderId'] = le.fit_transform(df.ProviderId.values)\n",
        "df['SubscriptionId'] = le.fit_transform(df.SubscriptionId.values)\n",
        "df['CurrencyCode'] = le.fit_transform(df.CurrencyCode.values)\n",
        "df['ProductCategory'] = le.fit_transform(df.ProductCategory.values)\n",
        "df['TransactionId'] = le.fit_transform(df.TransactionId.values)"
      ],
      "execution_count": 0,
      "outputs": []
    },
    {
      "cell_type": "code",
      "metadata": {
        "id": "V4tJXLAEhWc0",
        "colab_type": "code",
        "outputId": "b20c936a-6203-4ab8-f99e-ded958c6ab6f",
        "colab": {
          "base_uri": "https://localhost:8080/",
          "height": 224
        }
      },
      "source": [
        "df.head()"
      ],
      "execution_count": 0,
      "outputs": [
        {
          "output_type": "execute_result",
          "data": {
            "text/html": [
              "<div>\n",
              "<style scoped>\n",
              "    .dataframe tbody tr th:only-of-type {\n",
              "        vertical-align: middle;\n",
              "    }\n",
              "\n",
              "    .dataframe tbody tr th {\n",
              "        vertical-align: top;\n",
              "    }\n",
              "\n",
              "    .dataframe thead th {\n",
              "        text-align: right;\n",
              "    }\n",
              "</style>\n",
              "<table border=\"1\" class=\"dataframe\">\n",
              "  <thead>\n",
              "    <tr style=\"text-align: right;\">\n",
              "      <th></th>\n",
              "      <th>AccountId</th>\n",
              "      <th>Amount</th>\n",
              "      <th>BatchId</th>\n",
              "      <th>ChannelId</th>\n",
              "      <th>CountryCode</th>\n",
              "      <th>CurrencyCode</th>\n",
              "      <th>CustomerId</th>\n",
              "      <th>FraudResult</th>\n",
              "      <th>PricingStrategy</th>\n",
              "      <th>ProductCategory</th>\n",
              "      <th>ProductId</th>\n",
              "      <th>ProviderId</th>\n",
              "      <th>SubscriptionId</th>\n",
              "      <th>TransactionId</th>\n",
              "      <th>TransactionStartTime</th>\n",
              "      <th>Value</th>\n",
              "    </tr>\n",
              "  </thead>\n",
              "  <tbody>\n",
              "    <tr>\n",
              "      <th>0</th>\n",
              "      <td>3286</td>\n",
              "      <td>1000.0</td>\n",
              "      <td>68522</td>\n",
              "      <td>2</td>\n",
              "      <td>0</td>\n",
              "      <td>0</td>\n",
              "      <td>3786</td>\n",
              "      <td>0.0</td>\n",
              "      <td>2</td>\n",
              "      <td>0</td>\n",
              "      <td>1</td>\n",
              "      <td>5</td>\n",
              "      <td>4711</td>\n",
              "      <td>114984</td>\n",
              "      <td>2018-11-15T02:18:49Z</td>\n",
              "      <td>1000</td>\n",
              "    </tr>\n",
              "    <tr>\n",
              "      <th>1</th>\n",
              "      <td>4269</td>\n",
              "      <td>-20.0</td>\n",
              "      <td>45765</td>\n",
              "      <td>1</td>\n",
              "      <td>0</td>\n",
              "      <td>0</td>\n",
              "      <td>3786</td>\n",
              "      <td>0.0</td>\n",
              "      <td>2</td>\n",
              "      <td>2</td>\n",
              "      <td>23</td>\n",
              "      <td>3</td>\n",
              "      <td>3144</td>\n",
              "      <td>111539</td>\n",
              "      <td>2018-11-15T02:19:08Z</td>\n",
              "      <td>20</td>\n",
              "    </tr>\n",
              "    <tr>\n",
              "      <th>2</th>\n",
              "      <td>3589</td>\n",
              "      <td>500.0</td>\n",
              "      <td>88319</td>\n",
              "      <td>2</td>\n",
              "      <td>0</td>\n",
              "      <td>0</td>\n",
              "      <td>4093</td>\n",
              "      <td>0.0</td>\n",
              "      <td>2</td>\n",
              "      <td>0</td>\n",
              "      <td>0</td>\n",
              "      <td>5</td>\n",
              "      <td>1357</td>\n",
              "      <td>58688</td>\n",
              "      <td>2018-11-15T02:44:21Z</td>\n",
              "      <td>500</td>\n",
              "    </tr>\n",
              "    <tr>\n",
              "      <th>3</th>\n",
              "      <td>4451</td>\n",
              "      <td>20000.0</td>\n",
              "      <td>2629</td>\n",
              "      <td>2</td>\n",
              "      <td>0</td>\n",
              "      <td>0</td>\n",
              "      <td>7466</td>\n",
              "      <td>0.0</td>\n",
              "      <td>2</td>\n",
              "      <td>9</td>\n",
              "      <td>13</td>\n",
              "      <td>0</td>\n",
              "      <td>1318</td>\n",
              "      <td>71794</td>\n",
              "      <td>2018-11-15T03:32:55Z</td>\n",
              "      <td>21800</td>\n",
              "    </tr>\n",
              "    <tr>\n",
              "      <th>4</th>\n",
              "      <td>4269</td>\n",
              "      <td>-644.0</td>\n",
              "      <td>71473</td>\n",
              "      <td>1</td>\n",
              "      <td>0</td>\n",
              "      <td>0</td>\n",
              "      <td>7466</td>\n",
              "      <td>0.0</td>\n",
              "      <td>2</td>\n",
              "      <td>2</td>\n",
              "      <td>23</td>\n",
              "      <td>3</td>\n",
              "      <td>3144</td>\n",
              "      <td>60900</td>\n",
              "      <td>2018-11-15T03:34:21Z</td>\n",
              "      <td>644</td>\n",
              "    </tr>\n",
              "  </tbody>\n",
              "</table>\n",
              "</div>"
            ],
            "text/plain": [
              "   AccountId   Amount  BatchId  ...  TransactionId  TransactionStartTime  Value\n",
              "0       3286   1000.0    68522  ...         114984  2018-11-15T02:18:49Z   1000\n",
              "1       4269    -20.0    45765  ...         111539  2018-11-15T02:19:08Z     20\n",
              "2       3589    500.0    88319  ...          58688  2018-11-15T02:44:21Z    500\n",
              "3       4451  20000.0     2629  ...          71794  2018-11-15T03:32:55Z  21800\n",
              "4       4269   -644.0    71473  ...          60900  2018-11-15T03:34:21Z    644\n",
              "\n",
              "[5 rows x 16 columns]"
            ]
          },
          "metadata": {
            "tags": []
          },
          "execution_count": 245
        }
      ]
    },
    {
      "cell_type": "markdown",
      "metadata": {
        "id": "ZP2qlfX3zadw",
        "colab_type": "text"
      },
      "source": [
        "**Convert TransactionStartTime to normal time and date**"
      ]
    },
    {
      "cell_type": "code",
      "metadata": {
        "id": "V7u1z23vhWc4",
        "colab_type": "code",
        "colab": {}
      },
      "source": [
        "df.TransactionStartTime = pd.to_datetime(df.TransactionStartTime)"
      ],
      "execution_count": 0,
      "outputs": []
    },
    {
      "cell_type": "code",
      "metadata": {
        "id": "QTYg4m62hWc6",
        "colab_type": "code",
        "outputId": "37c40462-0404-4cde-ba6e-c7f09e6f2d68",
        "colab": {
          "base_uri": "https://localhost:8080/",
          "height": 309
        }
      },
      "source": [
        "df.head()"
      ],
      "execution_count": 0,
      "outputs": [
        {
          "output_type": "execute_result",
          "data": {
            "text/html": [
              "<div>\n",
              "<style scoped>\n",
              "    .dataframe tbody tr th:only-of-type {\n",
              "        vertical-align: middle;\n",
              "    }\n",
              "\n",
              "    .dataframe tbody tr th {\n",
              "        vertical-align: top;\n",
              "    }\n",
              "\n",
              "    .dataframe thead th {\n",
              "        text-align: right;\n",
              "    }\n",
              "</style>\n",
              "<table border=\"1\" class=\"dataframe\">\n",
              "  <thead>\n",
              "    <tr style=\"text-align: right;\">\n",
              "      <th></th>\n",
              "      <th>AccountId</th>\n",
              "      <th>Amount</th>\n",
              "      <th>BatchId</th>\n",
              "      <th>ChannelId</th>\n",
              "      <th>CountryCode</th>\n",
              "      <th>CurrencyCode</th>\n",
              "      <th>CustomerId</th>\n",
              "      <th>FraudResult</th>\n",
              "      <th>PricingStrategy</th>\n",
              "      <th>ProductCategory</th>\n",
              "      <th>ProductId</th>\n",
              "      <th>ProviderId</th>\n",
              "      <th>SubscriptionId</th>\n",
              "      <th>TransactionId</th>\n",
              "      <th>TransactionStartTime</th>\n",
              "      <th>Value</th>\n",
              "    </tr>\n",
              "  </thead>\n",
              "  <tbody>\n",
              "    <tr>\n",
              "      <th>0</th>\n",
              "      <td>3286</td>\n",
              "      <td>1000.0</td>\n",
              "      <td>68522</td>\n",
              "      <td>2</td>\n",
              "      <td>0</td>\n",
              "      <td>0</td>\n",
              "      <td>3786</td>\n",
              "      <td>0.0</td>\n",
              "      <td>2</td>\n",
              "      <td>0</td>\n",
              "      <td>1</td>\n",
              "      <td>5</td>\n",
              "      <td>4711</td>\n",
              "      <td>114984</td>\n",
              "      <td>2018-11-15 02:18:49+00:00</td>\n",
              "      <td>1000</td>\n",
              "    </tr>\n",
              "    <tr>\n",
              "      <th>1</th>\n",
              "      <td>4269</td>\n",
              "      <td>-20.0</td>\n",
              "      <td>45765</td>\n",
              "      <td>1</td>\n",
              "      <td>0</td>\n",
              "      <td>0</td>\n",
              "      <td>3786</td>\n",
              "      <td>0.0</td>\n",
              "      <td>2</td>\n",
              "      <td>2</td>\n",
              "      <td>23</td>\n",
              "      <td>3</td>\n",
              "      <td>3144</td>\n",
              "      <td>111539</td>\n",
              "      <td>2018-11-15 02:19:08+00:00</td>\n",
              "      <td>20</td>\n",
              "    </tr>\n",
              "    <tr>\n",
              "      <th>2</th>\n",
              "      <td>3589</td>\n",
              "      <td>500.0</td>\n",
              "      <td>88319</td>\n",
              "      <td>2</td>\n",
              "      <td>0</td>\n",
              "      <td>0</td>\n",
              "      <td>4093</td>\n",
              "      <td>0.0</td>\n",
              "      <td>2</td>\n",
              "      <td>0</td>\n",
              "      <td>0</td>\n",
              "      <td>5</td>\n",
              "      <td>1357</td>\n",
              "      <td>58688</td>\n",
              "      <td>2018-11-15 02:44:21+00:00</td>\n",
              "      <td>500</td>\n",
              "    </tr>\n",
              "    <tr>\n",
              "      <th>3</th>\n",
              "      <td>4451</td>\n",
              "      <td>20000.0</td>\n",
              "      <td>2629</td>\n",
              "      <td>2</td>\n",
              "      <td>0</td>\n",
              "      <td>0</td>\n",
              "      <td>7466</td>\n",
              "      <td>0.0</td>\n",
              "      <td>2</td>\n",
              "      <td>9</td>\n",
              "      <td>13</td>\n",
              "      <td>0</td>\n",
              "      <td>1318</td>\n",
              "      <td>71794</td>\n",
              "      <td>2018-11-15 03:32:55+00:00</td>\n",
              "      <td>21800</td>\n",
              "    </tr>\n",
              "    <tr>\n",
              "      <th>4</th>\n",
              "      <td>4269</td>\n",
              "      <td>-644.0</td>\n",
              "      <td>71473</td>\n",
              "      <td>1</td>\n",
              "      <td>0</td>\n",
              "      <td>0</td>\n",
              "      <td>7466</td>\n",
              "      <td>0.0</td>\n",
              "      <td>2</td>\n",
              "      <td>2</td>\n",
              "      <td>23</td>\n",
              "      <td>3</td>\n",
              "      <td>3144</td>\n",
              "      <td>60900</td>\n",
              "      <td>2018-11-15 03:34:21+00:00</td>\n",
              "      <td>644</td>\n",
              "    </tr>\n",
              "  </tbody>\n",
              "</table>\n",
              "</div>"
            ],
            "text/plain": [
              "   AccountId   Amount  BatchId  ...  TransactionId      TransactionStartTime  Value\n",
              "0       3286   1000.0    68522  ...         114984 2018-11-15 02:18:49+00:00   1000\n",
              "1       4269    -20.0    45765  ...         111539 2018-11-15 02:19:08+00:00     20\n",
              "2       3589    500.0    88319  ...          58688 2018-11-15 02:44:21+00:00    500\n",
              "3       4451  20000.0     2629  ...          71794 2018-11-15 03:32:55+00:00  21800\n",
              "4       4269   -644.0    71473  ...          60900 2018-11-15 03:34:21+00:00    644\n",
              "\n",
              "[5 rows x 16 columns]"
            ]
          },
          "metadata": {
            "tags": []
          },
          "execution_count": 247
        }
      ]
    },
    {
      "cell_type": "code",
      "metadata": {
        "id": "ZimfK00bhWc-",
        "colab_type": "code",
        "outputId": "85cd63eb-254b-4b48-9f0f-3e9ed655f845",
        "colab": {
          "base_uri": "https://localhost:8080/",
          "height": 34
        }
      },
      "source": [
        "df.shape"
      ],
      "execution_count": 0,
      "outputs": [
        {
          "output_type": "execute_result",
          "data": {
            "text/plain": [
              "(140681, 16)"
            ]
          },
          "metadata": {
            "tags": []
          },
          "execution_count": 248
        }
      ]
    },
    {
      "cell_type": "markdown",
      "metadata": {
        "id": "9ZnhmPiez5cn",
        "colab_type": "text"
      },
      "source": [
        "**Drop CountryCode,CurrencyCode and TransactionStartTime columns**\n",
        "\n",
        "\n",
        "\n"
      ]
    },
    {
      "cell_type": "code",
      "metadata": {
        "id": "-YHnTOMQNQeD",
        "colab_type": "code",
        "outputId": "a2ade66d-b0c8-442a-be9c-13837f2b64a8",
        "colab": {
          "base_uri": "https://localhost:8080/",
          "height": 309
        }
      },
      "source": [
        "df.head()"
      ],
      "execution_count": 0,
      "outputs": [
        {
          "output_type": "execute_result",
          "data": {
            "text/html": [
              "<div>\n",
              "<style scoped>\n",
              "    .dataframe tbody tr th:only-of-type {\n",
              "        vertical-align: middle;\n",
              "    }\n",
              "\n",
              "    .dataframe tbody tr th {\n",
              "        vertical-align: top;\n",
              "    }\n",
              "\n",
              "    .dataframe thead th {\n",
              "        text-align: right;\n",
              "    }\n",
              "</style>\n",
              "<table border=\"1\" class=\"dataframe\">\n",
              "  <thead>\n",
              "    <tr style=\"text-align: right;\">\n",
              "      <th></th>\n",
              "      <th>AccountId</th>\n",
              "      <th>Amount</th>\n",
              "      <th>BatchId</th>\n",
              "      <th>ChannelId</th>\n",
              "      <th>CountryCode</th>\n",
              "      <th>CurrencyCode</th>\n",
              "      <th>CustomerId</th>\n",
              "      <th>FraudResult</th>\n",
              "      <th>PricingStrategy</th>\n",
              "      <th>ProductCategory</th>\n",
              "      <th>ProductId</th>\n",
              "      <th>ProviderId</th>\n",
              "      <th>SubscriptionId</th>\n",
              "      <th>TransactionId</th>\n",
              "      <th>TransactionStartTime</th>\n",
              "      <th>Value</th>\n",
              "    </tr>\n",
              "  </thead>\n",
              "  <tbody>\n",
              "    <tr>\n",
              "      <th>0</th>\n",
              "      <td>3286</td>\n",
              "      <td>1000.0</td>\n",
              "      <td>68522</td>\n",
              "      <td>2</td>\n",
              "      <td>0</td>\n",
              "      <td>0</td>\n",
              "      <td>3786</td>\n",
              "      <td>0.0</td>\n",
              "      <td>2</td>\n",
              "      <td>0</td>\n",
              "      <td>1</td>\n",
              "      <td>5</td>\n",
              "      <td>4711</td>\n",
              "      <td>114984</td>\n",
              "      <td>2018-11-15 02:18:49+00:00</td>\n",
              "      <td>1000</td>\n",
              "    </tr>\n",
              "    <tr>\n",
              "      <th>1</th>\n",
              "      <td>4269</td>\n",
              "      <td>-20.0</td>\n",
              "      <td>45765</td>\n",
              "      <td>1</td>\n",
              "      <td>0</td>\n",
              "      <td>0</td>\n",
              "      <td>3786</td>\n",
              "      <td>0.0</td>\n",
              "      <td>2</td>\n",
              "      <td>2</td>\n",
              "      <td>23</td>\n",
              "      <td>3</td>\n",
              "      <td>3144</td>\n",
              "      <td>111539</td>\n",
              "      <td>2018-11-15 02:19:08+00:00</td>\n",
              "      <td>20</td>\n",
              "    </tr>\n",
              "    <tr>\n",
              "      <th>2</th>\n",
              "      <td>3589</td>\n",
              "      <td>500.0</td>\n",
              "      <td>88319</td>\n",
              "      <td>2</td>\n",
              "      <td>0</td>\n",
              "      <td>0</td>\n",
              "      <td>4093</td>\n",
              "      <td>0.0</td>\n",
              "      <td>2</td>\n",
              "      <td>0</td>\n",
              "      <td>0</td>\n",
              "      <td>5</td>\n",
              "      <td>1357</td>\n",
              "      <td>58688</td>\n",
              "      <td>2018-11-15 02:44:21+00:00</td>\n",
              "      <td>500</td>\n",
              "    </tr>\n",
              "    <tr>\n",
              "      <th>3</th>\n",
              "      <td>4451</td>\n",
              "      <td>20000.0</td>\n",
              "      <td>2629</td>\n",
              "      <td>2</td>\n",
              "      <td>0</td>\n",
              "      <td>0</td>\n",
              "      <td>7466</td>\n",
              "      <td>0.0</td>\n",
              "      <td>2</td>\n",
              "      <td>9</td>\n",
              "      <td>13</td>\n",
              "      <td>0</td>\n",
              "      <td>1318</td>\n",
              "      <td>71794</td>\n",
              "      <td>2018-11-15 03:32:55+00:00</td>\n",
              "      <td>21800</td>\n",
              "    </tr>\n",
              "    <tr>\n",
              "      <th>4</th>\n",
              "      <td>4269</td>\n",
              "      <td>-644.0</td>\n",
              "      <td>71473</td>\n",
              "      <td>1</td>\n",
              "      <td>0</td>\n",
              "      <td>0</td>\n",
              "      <td>7466</td>\n",
              "      <td>0.0</td>\n",
              "      <td>2</td>\n",
              "      <td>2</td>\n",
              "      <td>23</td>\n",
              "      <td>3</td>\n",
              "      <td>3144</td>\n",
              "      <td>60900</td>\n",
              "      <td>2018-11-15 03:34:21+00:00</td>\n",
              "      <td>644</td>\n",
              "    </tr>\n",
              "  </tbody>\n",
              "</table>\n",
              "</div>"
            ],
            "text/plain": [
              "   AccountId   Amount  BatchId  ...  TransactionId      TransactionStartTime  Value\n",
              "0       3286   1000.0    68522  ...         114984 2018-11-15 02:18:49+00:00   1000\n",
              "1       4269    -20.0    45765  ...         111539 2018-11-15 02:19:08+00:00     20\n",
              "2       3589    500.0    88319  ...          58688 2018-11-15 02:44:21+00:00    500\n",
              "3       4451  20000.0     2629  ...          71794 2018-11-15 03:32:55+00:00  21800\n",
              "4       4269   -644.0    71473  ...          60900 2018-11-15 03:34:21+00:00    644\n",
              "\n",
              "[5 rows x 16 columns]"
            ]
          },
          "metadata": {
            "tags": []
          },
          "execution_count": 249
        }
      ]
    },
    {
      "cell_type": "code",
      "metadata": {
        "id": "k_qmNbHCCmBV",
        "colab_type": "code",
        "colab": {}
      },
      "source": [
        ""
      ],
      "execution_count": 0,
      "outputs": []
    },
    {
      "cell_type": "markdown",
      "metadata": {
        "id": "B8QN5Hu4EsaC",
        "colab_type": "text"
      },
      "source": [
        ""
      ]
    },
    {
      "cell_type": "code",
      "metadata": {
        "id": "eVk0tWg8hWdB",
        "colab_type": "code",
        "colab": {}
      },
      "source": [
        "#CountryCode and CurrencyCode has the same values throughout \n",
        "#Cannot convert time to a float\n",
        "df.drop(['TransactionStartTime','AccountId','BatchId','TransactionId','Value','SubscriptionId'], axis=1, inplace=True)"
      ],
      "execution_count": 0,
      "outputs": []
    },
    {
      "cell_type": "code",
      "metadata": {
        "id": "Rw5Z58VlhWdO",
        "colab_type": "code",
        "outputId": "00df3a28-e501-45a6-b210-80fd0cb60782",
        "colab": {
          "base_uri": "https://localhost:8080/",
          "height": 379
        }
      },
      "source": [
        "#Check the corrolation\n",
        "corr = df.corr()\n",
        "corr"
      ],
      "execution_count": 0,
      "outputs": [
        {
          "output_type": "execute_result",
          "data": {
            "text/html": [
              "<div>\n",
              "<style scoped>\n",
              "    .dataframe tbody tr th:only-of-type {\n",
              "        vertical-align: middle;\n",
              "    }\n",
              "\n",
              "    .dataframe tbody tr th {\n",
              "        vertical-align: top;\n",
              "    }\n",
              "\n",
              "    .dataframe thead th {\n",
              "        text-align: right;\n",
              "    }\n",
              "</style>\n",
              "<table border=\"1\" class=\"dataframe\">\n",
              "  <thead>\n",
              "    <tr style=\"text-align: right;\">\n",
              "      <th></th>\n",
              "      <th>Amount</th>\n",
              "      <th>ChannelId</th>\n",
              "      <th>CountryCode</th>\n",
              "      <th>CurrencyCode</th>\n",
              "      <th>CustomerId</th>\n",
              "      <th>FraudResult</th>\n",
              "      <th>PricingStrategy</th>\n",
              "      <th>ProductCategory</th>\n",
              "      <th>ProductId</th>\n",
              "      <th>ProviderId</th>\n",
              "    </tr>\n",
              "  </thead>\n",
              "  <tbody>\n",
              "    <tr>\n",
              "      <th>Amount</th>\n",
              "      <td>1.000000</td>\n",
              "      <td>0.035237</td>\n",
              "      <td>NaN</td>\n",
              "      <td>NaN</td>\n",
              "      <td>-0.014168</td>\n",
              "      <td>0.557370</td>\n",
              "      <td>-0.079458</td>\n",
              "      <td>0.034813</td>\n",
              "      <td>-0.056837</td>\n",
              "      <td>-0.041769</td>\n",
              "    </tr>\n",
              "    <tr>\n",
              "      <th>ChannelId</th>\n",
              "      <td>0.035237</td>\n",
              "      <td>1.000000</td>\n",
              "      <td>NaN</td>\n",
              "      <td>NaN</td>\n",
              "      <td>-0.117828</td>\n",
              "      <td>0.024972</td>\n",
              "      <td>0.014242</td>\n",
              "      <td>-0.145601</td>\n",
              "      <td>-0.409841</td>\n",
              "      <td>0.265515</td>\n",
              "    </tr>\n",
              "    <tr>\n",
              "      <th>CountryCode</th>\n",
              "      <td>NaN</td>\n",
              "      <td>NaN</td>\n",
              "      <td>NaN</td>\n",
              "      <td>NaN</td>\n",
              "      <td>NaN</td>\n",
              "      <td>NaN</td>\n",
              "      <td>NaN</td>\n",
              "      <td>NaN</td>\n",
              "      <td>NaN</td>\n",
              "      <td>NaN</td>\n",
              "    </tr>\n",
              "    <tr>\n",
              "      <th>CurrencyCode</th>\n",
              "      <td>NaN</td>\n",
              "      <td>NaN</td>\n",
              "      <td>NaN</td>\n",
              "      <td>NaN</td>\n",
              "      <td>NaN</td>\n",
              "      <td>NaN</td>\n",
              "      <td>NaN</td>\n",
              "      <td>NaN</td>\n",
              "      <td>NaN</td>\n",
              "      <td>NaN</td>\n",
              "    </tr>\n",
              "    <tr>\n",
              "      <th>CustomerId</th>\n",
              "      <td>-0.014168</td>\n",
              "      <td>-0.117828</td>\n",
              "      <td>NaN</td>\n",
              "      <td>NaN</td>\n",
              "      <td>1.000000</td>\n",
              "      <td>0.014277</td>\n",
              "      <td>0.209665</td>\n",
              "      <td>-0.069509</td>\n",
              "      <td>-0.014176</td>\n",
              "      <td>-0.032710</td>\n",
              "    </tr>\n",
              "    <tr>\n",
              "      <th>FraudResult</th>\n",
              "      <td>0.557370</td>\n",
              "      <td>0.024972</td>\n",
              "      <td>NaN</td>\n",
              "      <td>NaN</td>\n",
              "      <td>0.014277</td>\n",
              "      <td>1.000000</td>\n",
              "      <td>-0.051744</td>\n",
              "      <td>0.027165</td>\n",
              "      <td>-0.037310</td>\n",
              "      <td>-0.051937</td>\n",
              "    </tr>\n",
              "    <tr>\n",
              "      <th>PricingStrategy</th>\n",
              "      <td>-0.079458</td>\n",
              "      <td>0.014242</td>\n",
              "      <td>NaN</td>\n",
              "      <td>NaN</td>\n",
              "      <td>0.209665</td>\n",
              "      <td>-0.051744</td>\n",
              "      <td>1.000000</td>\n",
              "      <td>-0.260388</td>\n",
              "      <td>-0.076879</td>\n",
              "      <td>-0.088194</td>\n",
              "    </tr>\n",
              "    <tr>\n",
              "      <th>ProductCategory</th>\n",
              "      <td>0.034813</td>\n",
              "      <td>-0.145601</td>\n",
              "      <td>NaN</td>\n",
              "      <td>NaN</td>\n",
              "      <td>-0.069509</td>\n",
              "      <td>0.027165</td>\n",
              "      <td>-0.260388</td>\n",
              "      <td>1.000000</td>\n",
              "      <td>0.156253</td>\n",
              "      <td>-0.257260</td>\n",
              "    </tr>\n",
              "    <tr>\n",
              "      <th>ProductId</th>\n",
              "      <td>-0.056837</td>\n",
              "      <td>-0.409841</td>\n",
              "      <td>NaN</td>\n",
              "      <td>NaN</td>\n",
              "      <td>-0.014176</td>\n",
              "      <td>-0.037310</td>\n",
              "      <td>-0.076879</td>\n",
              "      <td>0.156253</td>\n",
              "      <td>1.000000</td>\n",
              "      <td>-0.143021</td>\n",
              "    </tr>\n",
              "    <tr>\n",
              "      <th>ProviderId</th>\n",
              "      <td>-0.041769</td>\n",
              "      <td>0.265515</td>\n",
              "      <td>NaN</td>\n",
              "      <td>NaN</td>\n",
              "      <td>-0.032710</td>\n",
              "      <td>-0.051937</td>\n",
              "      <td>-0.088194</td>\n",
              "      <td>-0.257260</td>\n",
              "      <td>-0.143021</td>\n",
              "      <td>1.000000</td>\n",
              "    </tr>\n",
              "  </tbody>\n",
              "</table>\n",
              "</div>"
            ],
            "text/plain": [
              "                   Amount  ChannelId  ...  ProductId  ProviderId\n",
              "Amount           1.000000   0.035237  ...  -0.056837   -0.041769\n",
              "ChannelId        0.035237   1.000000  ...  -0.409841    0.265515\n",
              "CountryCode           NaN        NaN  ...        NaN         NaN\n",
              "CurrencyCode          NaN        NaN  ...        NaN         NaN\n",
              "CustomerId      -0.014168  -0.117828  ...  -0.014176   -0.032710\n",
              "FraudResult      0.557370   0.024972  ...  -0.037310   -0.051937\n",
              "PricingStrategy -0.079458   0.014242  ...  -0.076879   -0.088194\n",
              "ProductCategory  0.034813  -0.145601  ...   0.156253   -0.257260\n",
              "ProductId       -0.056837  -0.409841  ...   1.000000   -0.143021\n",
              "ProviderId      -0.041769   0.265515  ...  -0.143021    1.000000\n",
              "\n",
              "[10 rows x 10 columns]"
            ]
          },
          "metadata": {
            "tags": []
          },
          "execution_count": 251
        }
      ]
    },
    {
      "cell_type": "markdown",
      "metadata": {
        "id": "VW-IQg6B1raj",
        "colab_type": "text"
      },
      "source": [
        "**Visualize**"
      ]
    },
    {
      "cell_type": "code",
      "metadata": {
        "id": "EckkgLZyhWdS",
        "colab_type": "code",
        "outputId": "ce3d2a2e-37e3-4213-ad12-30e26ce68bff",
        "colab": {
          "base_uri": "https://localhost:8080/",
          "height": 427
        }
      },
      "source": [
        "#heatmap\n",
        "corr = df.corr()\n",
        "plt.figure(figsize=(7,5))\n",
        "heat = sns.heatmap(data=corr)\n",
        "plt.title('Heatmap of Correlation')\n"
      ],
      "execution_count": 0,
      "outputs": [
        {
          "output_type": "execute_result",
          "data": {
            "text/plain": [
              "Text(0.5, 1.0, 'Heatmap of Correlation')"
            ]
          },
          "metadata": {
            "tags": []
          },
          "execution_count": 252
        },
        {
          "output_type": "display_data",
          "data": {
            "image/png": "[encoded data removed]",
            "text/plain": [
              "<Figure size 504x360 with 2 Axes>"
            ]
          },
          "metadata": {
            "tags": []
          }
        }
      ]
    },
    {
      "cell_type": "markdown",
      "metadata": {
        "id": "oyU_U9dv18n6",
        "colab_type": "text"
      },
      "source": [
        "**Reverse back to the origional train data**"
      ]
    },
    {
      "cell_type": "code",
      "metadata": {
        "id": "0CgcUSaZhWeE",
        "colab_type": "code",
        "colab": {}
      },
      "source": [
        "train = df[pd.notnull(df['FraudResult'])]\n",
        "X_test = df[pd.isnull(df['FraudResult'])].drop(['FraudResult'], axis=1)"
      ],
      "execution_count": 0,
      "outputs": []
    },
    {
      "cell_type": "markdown",
      "metadata": {
        "id": "tO_ClE4o2D1C",
        "colab_type": "text"
      },
      "source": [
        "**Reverse back FraudResults into integers**"
      ]
    },
    {
      "cell_type": "code",
      "metadata": {
        "id": "pYTiAn0ghWeG",
        "colab_type": "code",
        "colab": {}
      },
      "source": [
        "train['FraudResult']=train['FraudResult'].apply(int)"
      ],
      "execution_count": 0,
      "outputs": []
    },
    {
      "cell_type": "code",
      "metadata": {
        "id": "RZZuWRbrhWeI",
        "colab_type": "code",
        "outputId": "d98792d3-73fb-47f0-a43a-5abed4148adc",
        "colab": {
          "base_uri": "https://localhost:8080/",
          "height": 204
        }
      },
      "source": [
        "X_test.head()"
      ],
      "execution_count": 0,
      "outputs": [
        {
          "output_type": "execute_result",
          "data": {
            "text/html": [
              "<div>\n",
              "<style scoped>\n",
              "    .dataframe tbody tr th:only-of-type {\n",
              "        vertical-align: middle;\n",
              "    }\n",
              "\n",
              "    .dataframe tbody tr th {\n",
              "        vertical-align: top;\n",
              "    }\n",
              "\n",
              "    .dataframe thead th {\n",
              "        text-align: right;\n",
              "    }\n",
              "</style>\n",
              "<table border=\"1\" class=\"dataframe\">\n",
              "  <thead>\n",
              "    <tr style=\"text-align: right;\">\n",
              "      <th></th>\n",
              "      <th>Amount</th>\n",
              "      <th>ChannelId</th>\n",
              "      <th>CountryCode</th>\n",
              "      <th>CurrencyCode</th>\n",
              "      <th>CustomerId</th>\n",
              "      <th>PricingStrategy</th>\n",
              "      <th>ProductCategory</th>\n",
              "      <th>ProductId</th>\n",
              "      <th>ProviderId</th>\n",
              "    </tr>\n",
              "  </thead>\n",
              "  <tbody>\n",
              "    <tr>\n",
              "      <th>0</th>\n",
              "      <td>1000.0</td>\n",
              "      <td>2</td>\n",
              "      <td>0</td>\n",
              "      <td>0</td>\n",
              "      <td>2064</td>\n",
              "      <td>3</td>\n",
              "      <td>0</td>\n",
              "      <td>20</td>\n",
              "      <td>4</td>\n",
              "    </tr>\n",
              "    <tr>\n",
              "      <th>1</th>\n",
              "      <td>2000.0</td>\n",
              "      <td>2</td>\n",
              "      <td>0</td>\n",
              "      <td>0</td>\n",
              "      <td>3194</td>\n",
              "      <td>2</td>\n",
              "      <td>2</td>\n",
              "      <td>6</td>\n",
              "      <td>4</td>\n",
              "    </tr>\n",
              "    <tr>\n",
              "      <th>2</th>\n",
              "      <td>-50.0</td>\n",
              "      <td>1</td>\n",
              "      <td>0</td>\n",
              "      <td>0</td>\n",
              "      <td>2064</td>\n",
              "      <td>2</td>\n",
              "      <td>2</td>\n",
              "      <td>23</td>\n",
              "      <td>3</td>\n",
              "    </tr>\n",
              "    <tr>\n",
              "      <th>3</th>\n",
              "      <td>3000.0</td>\n",
              "      <td>2</td>\n",
              "      <td>0</td>\n",
              "      <td>0</td>\n",
              "      <td>2341</td>\n",
              "      <td>3</td>\n",
              "      <td>0</td>\n",
              "      <td>1</td>\n",
              "      <td>4</td>\n",
              "    </tr>\n",
              "    <tr>\n",
              "      <th>4</th>\n",
              "      <td>-60.0</td>\n",
              "      <td>1</td>\n",
              "      <td>0</td>\n",
              "      <td>0</td>\n",
              "      <td>2341</td>\n",
              "      <td>2</td>\n",
              "      <td>2</td>\n",
              "      <td>23</td>\n",
              "      <td>3</td>\n",
              "    </tr>\n",
              "  </tbody>\n",
              "</table>\n",
              "</div>"
            ],
            "text/plain": [
              "   Amount  ChannelId  CountryCode  ...  ProductCategory  ProductId  ProviderId\n",
              "0  1000.0          2            0  ...                0         20           4\n",
              "1  2000.0          2            0  ...                2          6           4\n",
              "2   -50.0          1            0  ...                2         23           3\n",
              "3  3000.0          2            0  ...                0          1           4\n",
              "4   -60.0          1            0  ...                2         23           3\n",
              "\n",
              "[5 rows x 9 columns]"
            ]
          },
          "metadata": {
            "tags": []
          },
          "execution_count": 255
        }
      ]
    },
    {
      "cell_type": "markdown",
      "metadata": {
        "id": "Hp84fTqh2RjQ",
        "colab_type": "text"
      },
      "source": [
        "**Split the data**"
      ]
    },
    {
      "cell_type": "code",
      "metadata": {
        "id": "60DhsBLShWeM",
        "colab_type": "code",
        "colab": {}
      },
      "source": [
        "# train test split\n",
        "from sklearn.model_selection import train_test_split\n",
        "\n",
        "X_train, X_val, y_train, y_val = train_test_split(train.drop(['FraudResult'], axis=1),train['FraudResult'],test_size=0.2, random_state=42)"
      ],
      "execution_count": 0,
      "outputs": []
    },
    {
      "cell_type": "code",
      "metadata": {
        "id": "uIxQ_Hh3hWeU",
        "colab_type": "code",
        "outputId": "b915ac32-d6ad-4b62-d0a3-ad19998cdc4a",
        "colab": {
          "base_uri": "https://localhost:8080/",
          "height": 136
        }
      },
      "source": [
        "print('X_shapes:\\n', 'X_train:', 'X_validation:\\n', X_train.shape, X_val.shape, '\\n')\n",
        "print('Y_shapes:\\n', 'Y_train:', 'Y_validation:\\n', y_train.shape, y_val.shape)"
      ],
      "execution_count": 0,
      "outputs": [
        {
          "output_type": "stream",
          "text": [
            "X_shapes:\n",
            " X_train: X_validation:\n",
            " (76529, 9) (19133, 9) \n",
            "\n",
            "Y_shapes:\n",
            " Y_train: Y_validation:\n",
            " (76529,) (19133,)\n"
          ],
          "name": "stdout"
        }
      ]
    },
    {
      "cell_type": "markdown",
      "metadata": {
        "id": "50Mcs2JK23My",
        "colab_type": "text"
      },
      "source": [
        "**Load Packages**"
      ]
    },
    {
      "cell_type": "code",
      "metadata": {
        "id": "t_7qS0ckhWeY",
        "colab_type": "code",
        "colab": {}
      },
      "source": [
        "from sklearn.model_selection import KFold\n",
        "from sklearn.model_selection import cross_val_score\n",
        "from sklearn.metrics import roc_auc_score\n",
        "from sklearn.metrics import classification_report\n",
        "from sklearn.metrics import confusion_matrix\n",
        "from sklearn.linear_model import LogisticRegression\n",
        "from sklearn.discriminant_analysis import LinearDiscriminantAnalysis\n",
        "from sklearn.neighbors import KNeighborsClassifier\n",
        "from sklearn.tree import DecisionTreeClassifier\n",
        "from sklearn.ensemble import RandomForestRegressor\n",
        "from sklearn.neural_network import MLPClassifier\n",
        "from sklearn.svm import SVC\n",
        "import scipy.stats as stats\n",
        "from sklearn.ensemble import RandomForestClassifier\n",
        "from keras import Sequential\n",
        "from keras.layers import Dense"
      ],
      "execution_count": 0,
      "outputs": []
    },
    {
      "cell_type": "code",
      "metadata": {
        "id": "xhHZR3c4hWec",
        "colab_type": "code",
        "colab": {}
      },
      "source": [
        "def warn(*args, **kwargs):\n",
        "    pass\n",
        "import warnings\n",
        "warnings.warn = warn"
      ],
      "execution_count": 0,
      "outputs": []
    },
    {
      "cell_type": "markdown",
      "metadata": {
        "id": "M_i8nJ2t57sw",
        "colab_type": "text"
      },
      "source": [
        "**Check better performing models**"
      ]
    },
    {
      "cell_type": "code",
      "metadata": {
        "id": "Km5eZXZWhWef",
        "colab_type": "code",
        "outputId": "7b0d6339-c4e2-41e0-9c8f-67c42810f980",
        "colab": {
          "base_uri": "https://localhost:8080/",
          "height": 462
        }
      },
      "source": [
        "models = []\n",
        "\n",
        "models.append(('LR', LogisticRegression()))\n",
        "models.append(('LDA', LinearDiscriminantAnalysis()))\n",
        "models.append(('KNN', KNeighborsClassifier()))\n",
        "models.append(('CART', DecisionTreeClassifier()))\n",
        "models.append(('RF', RandomForestClassifier()))\n",
        "# models.append(('NEU', Sequential()))\n",
        "#testing models\n",
        "\n",
        "results = []\n",
        "names = []\n",
        "\n",
        "for name, model in models:\n",
        "    kfold = KFold(n_splits=10, random_state=42)\n",
        "    cv_results = cross_val_score(model, X_train, y_train, cv=kfold, scoring='roc_auc')\n",
        "    results.append(cv_results)\n",
        "    names.append(name)\n",
        "    msg = '%s: %f (%f)' % (name, cv_results.mean(), cv_results.std())\n",
        "    print(msg)"
      ],
      "execution_count": 0,
      "outputs": [
        {
          "output_type": "stream",
          "text": [
            "LR: 0.940063 (0.036141)\n",
            "LDA: 0.969873 (0.042131)\n",
            "KNN: 0.970925 (0.029413)\n",
            "CART: 0.955599 (0.034352)\n"
          ],
          "name": "stdout"
        },
        {
          "output_type": "stream",
          "text": [
            "/usr/local/lib/python3.6/dist-packages/sklearn/ensemble/forest.py:245: FutureWarning: The default value of n_estimators will change from 10 in version 0.20 to 100 in 0.22.\n",
            "  \"10 in version 0.20 to 100 in 0.22.\", FutureWarning)\n",
            "/usr/local/lib/python3.6/dist-packages/sklearn/ensemble/forest.py:245: FutureWarning: The default value of n_estimators will change from 10 in version 0.20 to 100 in 0.22.\n",
            "  \"10 in version 0.20 to 100 in 0.22.\", FutureWarning)\n",
            "/usr/local/lib/python3.6/dist-packages/sklearn/ensemble/forest.py:245: FutureWarning: The default value of n_estimators will change from 10 in version 0.20 to 100 in 0.22.\n",
            "  \"10 in version 0.20 to 100 in 0.22.\", FutureWarning)\n",
            "/usr/local/lib/python3.6/dist-packages/sklearn/ensemble/forest.py:245: FutureWarning: The default value of n_estimators will change from 10 in version 0.20 to 100 in 0.22.\n",
            "  \"10 in version 0.20 to 100 in 0.22.\", FutureWarning)\n",
            "/usr/local/lib/python3.6/dist-packages/sklearn/ensemble/forest.py:245: FutureWarning: The default value of n_estimators will change from 10 in version 0.20 to 100 in 0.22.\n",
            "  \"10 in version 0.20 to 100 in 0.22.\", FutureWarning)\n",
            "/usr/local/lib/python3.6/dist-packages/sklearn/ensemble/forest.py:245: FutureWarning: The default value of n_estimators will change from 10 in version 0.20 to 100 in 0.22.\n",
            "  \"10 in version 0.20 to 100 in 0.22.\", FutureWarning)\n",
            "/usr/local/lib/python3.6/dist-packages/sklearn/ensemble/forest.py:245: FutureWarning: The default value of n_estimators will change from 10 in version 0.20 to 100 in 0.22.\n",
            "  \"10 in version 0.20 to 100 in 0.22.\", FutureWarning)\n",
            "/usr/local/lib/python3.6/dist-packages/sklearn/ensemble/forest.py:245: FutureWarning: The default value of n_estimators will change from 10 in version 0.20 to 100 in 0.22.\n",
            "  \"10 in version 0.20 to 100 in 0.22.\", FutureWarning)\n",
            "/usr/local/lib/python3.6/dist-packages/sklearn/ensemble/forest.py:245: FutureWarning: The default value of n_estimators will change from 10 in version 0.20 to 100 in 0.22.\n",
            "  \"10 in version 0.20 to 100 in 0.22.\", FutureWarning)\n",
            "/usr/local/lib/python3.6/dist-packages/sklearn/ensemble/forest.py:245: FutureWarning: The default value of n_estimators will change from 10 in version 0.20 to 100 in 0.22.\n",
            "  \"10 in version 0.20 to 100 in 0.22.\", FutureWarning)\n"
          ],
          "name": "stderr"
        },
        {
          "output_type": "stream",
          "text": [
            "RF: 0.975026 (0.022400)\n"
          ],
          "name": "stdout"
        }
      ]
    },
    {
      "cell_type": "code",
      "metadata": {
        "id": "ehuD324nrCPU",
        "colab_type": "code",
        "outputId": "e3c49148-970e-4d2c-add5-e4815a5f7a15",
        "colab": {
          "base_uri": "https://localhost:8080/",
          "height": 68
        }
      },
      "source": [
        "for i in [X_train, X_val, X_test]:\n",
        "    print(i.shape)"
      ],
      "execution_count": 0,
      "outputs": [
        {
          "output_type": "stream",
          "text": [
            "(76529, 9)\n",
            "(19133, 9)\n",
            "(45019, 9)\n"
          ],
          "name": "stdout"
        }
      ]
    },
    {
      "cell_type": "markdown",
      "metadata": {
        "id": "OxDJvIcr3RMT",
        "colab_type": "text"
      },
      "source": [
        "**Logistic Regression**"
      ]
    },
    {
      "cell_type": "code",
      "metadata": {
        "id": "IKiI-RxNhWei",
        "colab_type": "code",
        "colab": {}
      },
      "source": [
        "model1 = LogisticRegression()\n",
        "\n",
        "# Train\n",
        "model1.fit(X_train, y_train)\n",
        "y_pred1 = model1.predict(X_test)"
      ],
      "execution_count": 0,
      "outputs": []
    },
    {
      "cell_type": "markdown",
      "metadata": {
        "id": "pDrkmNsE3WUU",
        "colab_type": "text"
      },
      "source": [
        "**Random Forest Classifier**"
      ]
    },
    {
      "cell_type": "code",
      "metadata": {
        "id": "2q0bfVMOhWej",
        "colab_type": "code",
        "outputId": "4763114c-1447-4b75-d779-ad1a4cb52b3d",
        "colab": {
          "base_uri": "https://localhost:8080/",
          "height": 71
        }
      },
      "source": [
        "model2 = RandomForestClassifier(random_state=42)\n",
        "model2.fit(X_train, y_train)\n",
        "y_pred2 = model2.predict(X_test)"
      ],
      "execution_count": 0,
      "outputs": [
        {
          "output_type": "stream",
          "text": [
            "/usr/local/lib/python3.6/dist-packages/sklearn/ensemble/forest.py:245: FutureWarning: The default value of n_estimators will change from 10 in version 0.20 to 100 in 0.22.\n",
            "  \"10 in version 0.20 to 100 in 0.22.\", FutureWarning)\n"
          ],
          "name": "stderr"
        }
      ]
    },
    {
      "cell_type": "markdown",
      "metadata": {
        "id": "ZmHAG6LQ3izD",
        "colab_type": "text"
      },
      "source": [
        "**Linear Discriminant Analysis**"
      ]
    },
    {
      "cell_type": "code",
      "metadata": {
        "id": "osjsFMya3uF4",
        "colab_type": "code",
        "colab": {}
      },
      "source": [
        "model3 = LinearDiscriminantAnalysis()\n",
        "model3.fit(X_train, y_train) \n",
        "y_pred3 = model3.predict(X_test)"
      ],
      "execution_count": 0,
      "outputs": []
    },
    {
      "cell_type": "markdown",
      "metadata": {
        "id": "_hhqg3dbUKxM",
        "colab_type": "text"
      },
      "source": [
        "**K Neighbors Classifier**\n"
      ]
    },
    {
      "cell_type": "code",
      "metadata": {
        "id": "_x8mpLuKUJDX",
        "colab_type": "code",
        "colab": {}
      },
      "source": [
        "model4 =KNeighborsClassifier(n_neighbors=3)\n",
        "model4.fit(X_train, y_train) \n",
        "y_pred4 = model4.predict(X_test) "
      ],
      "execution_count": 0,
      "outputs": []
    },
    {
      "cell_type": "markdown",
      "metadata": {
        "id": "3M8krxZeVgME",
        "colab_type": "text"
      },
      "source": [
        "**Decision Tree Classifier**"
      ]
    },
    {
      "cell_type": "code",
      "metadata": {
        "id": "AM1gYXpaVmbF",
        "colab_type": "code",
        "colab": {}
      },
      "source": [
        "model5 = DecisionTreeClassifier(random_state=0)\n",
        "model5.fit(X_train, y_train) \n",
        "y_pred5 = model5.predict(X_test)"
      ],
      "execution_count": 0,
      "outputs": []
    },
    {
      "cell_type": "markdown",
      "metadata": {
        "id": "8YCouy09-IAZ",
        "colab_type": "text"
      },
      "source": [
        "**Neural Networks**"
      ]
    },
    {
      "cell_type": "code",
      "metadata": {
        "id": "4SKJzhX1hWen",
        "colab_type": "code",
        "outputId": "e4b0eebf-10a4-49ea-f60e-b14175aed831",
        "colab": {
          "base_uri": "https://localhost:8080/",
          "height": 34
        }
      },
      "source": [
        "y_pred1.shape"
      ],
      "execution_count": 0,
      "outputs": [
        {
          "output_type": "execute_result",
          "data": {
            "text/plain": [
              "(45019,)"
            ]
          },
          "metadata": {
            "tags": []
          },
          "execution_count": 228
        }
      ]
    },
    {
      "cell_type": "code",
      "metadata": {
        "id": "a-WJ8LjxhWes",
        "colab_type": "code",
        "outputId": "b2791ae6-102a-4b29-97a9-3cd9e2706ad5",
        "colab": {
          "base_uri": "https://localhost:8080/",
          "height": 34
        }
      },
      "source": [
        "y_pred2.shape"
      ],
      "execution_count": 0,
      "outputs": [
        {
          "output_type": "execute_result",
          "data": {
            "text/plain": [
              "(45019,)"
            ]
          },
          "metadata": {
            "tags": []
          },
          "execution_count": 229
        }
      ]
    },
    {
      "cell_type": "code",
      "metadata": {
        "id": "rI3bLeCxhWe2",
        "colab_type": "code",
        "outputId": "59deab51-6113-4c28-f190-f75eed5e120f",
        "colab": {
          "base_uri": "https://localhost:8080/",
          "height": 34
        }
      },
      "source": [
        "y_pred5.shape"
      ],
      "execution_count": 0,
      "outputs": [
        {
          "output_type": "execute_result",
          "data": {
            "text/plain": [
              "(45019,)"
            ]
          },
          "metadata": {
            "tags": []
          },
          "execution_count": 230
        }
      ]
    },
    {
      "cell_type": "code",
      "metadata": {
        "id": "BRY2T2_6hWe5",
        "colab_type": "code",
        "colab": {}
      },
      "source": [
        "submission = pd.DataFrame()"
      ],
      "execution_count": 0,
      "outputs": []
    },
    {
      "cell_type": "code",
      "metadata": {
        "id": "Ap9xMmQghWe7",
        "colab_type": "code",
        "colab": {}
      },
      "source": [
        "submission['TransactionId']=test['TransactionId'].values"
      ],
      "execution_count": 0,
      "outputs": []
    },
    {
      "cell_type": "code",
      "metadata": {
        "id": "xMrE2jGQhWe8",
        "colab_type": "code",
        "colab": {}
      },
      "source": [
        "submission['FraudResult']=y_pred5"
      ],
      "execution_count": 0,
      "outputs": []
    },
    {
      "cell_type": "code",
      "metadata": {
        "id": "So7SVpWFhWe-",
        "colab_type": "code",
        "outputId": "ccbc62f2-6081-47c0-c38c-c4c253085fb3",
        "colab": {
          "base_uri": "https://localhost:8080/",
          "height": 34
        }
      },
      "source": [
        "submission.shape"
      ],
      "execution_count": 0,
      "outputs": [
        {
          "output_type": "execute_result",
          "data": {
            "text/plain": [
              "(45019, 2)"
            ]
          },
          "metadata": {
            "tags": []
          },
          "execution_count": 239
        }
      ]
    },
    {
      "cell_type": "code",
      "metadata": {
        "id": "JBb0e9QvhWfC",
        "colab_type": "code",
        "colab": {}
      },
      "source": [
        "submission.to_csv('improved.csv', index=False)"
      ],
      "execution_count": 0,
      "outputs": []
    },
    {
      "cell_type": "code",
      "metadata": {
        "id": "Bj5GooYLOyf7",
        "colab_type": "code",
        "colab": {}
      },
      "source": [
        ""
      ],
      "execution_count": 0,
      "outputs": []
    }
  ]
}